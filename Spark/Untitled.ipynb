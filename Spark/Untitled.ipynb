{
 "cells": [
  {
   "cell_type": "code",
   "execution_count": 1,
   "metadata": {},
   "outputs": [
    {
     "name": "stdout",
     "output_type": "stream",
     "text": [
      "initializing pyspark\n",
      "pyspark initialized\n"
     ]
    }
   ],
   "source": [
    "import sys\n",
    "sys.path.append('/class')\n",
    "from initspark import *\n",
    "sc, spark, conf = initspark()"
   ]
  },
  {
   "cell_type": "code",
   "execution_count": 2,
   "metadata": {},
   "outputs": [],
   "source": [
    "%load_ext sparksql_magic\n"
   ]
  },
  {
   "cell_type": "code",
   "execution_count": 3,
   "metadata": {},
   "outputs": [
    {
     "name": "stdout",
     "output_type": "stream",
     "text": [
      "only showing top 20 row(s)\n"
     ]
    },
    {
     "data": {
      "text/html": [
       "<table><tr style=\"border-bottom: 1px solid\"><td style=\"font-weight: bold\">territoryid</td><td style=\"font-weight: bold\">territoryname</td><td style=\"font-weight: bold\">regionid</td></tr><tr><td>01581</td><td>Westboro</td><td>1</td></tr><tr><td>01730</td><td>Bedford</td><td>1</td></tr><tr><td>01833</td><td>Georgetow</td><td>1</td></tr><tr><td>02116</td><td>Boston</td><td>1</td></tr><tr><td>02139</td><td>Cambridge</td><td>1</td></tr><tr><td>02184</td><td>Braintree</td><td>1</td></tr><tr><td>02903</td><td>Providence</td><td>1</td></tr><tr><td>03049</td><td>Hollis</td><td>3</td></tr><tr><td>03801</td><td>Portsmouth</td><td>3</td></tr><tr><td>06897</td><td>Wilton</td><td>1</td></tr><tr><td>07960</td><td>Morristown</td><td>1</td></tr><tr><td>08837</td><td>Edison</td><td>1</td></tr><tr><td>10019</td><td>New York</td><td>1</td></tr><tr><td>10038</td><td>New York</td><td>1</td></tr><tr><td>11747</td><td>Mellvile</td><td>1</td></tr><tr><td>14450</td><td>Fairport</td><td>1</td></tr><tr><td>19428</td><td>Philadelphia</td><td>3</td></tr><tr><td>19713</td><td>Neward</td><td>1</td></tr><tr><td>20852</td><td>Rockville</td><td>1</td></tr><tr><td>27403</td><td>Greensboro</td><td>1</td></tr></table>"
      ],
      "text/plain": [
       "<IPython.core.display.HTML object>"
      ]
     },
     "execution_count": 3,
     "metadata": {},
     "output_type": "execute_result"
    }
   ],
   "source": [
    "%%sparksql\n",
    "select * from territories\n"
   ]
  },
  {
   "cell_type": "code",
   "execution_count": null,
   "metadata": {},
   "outputs": [],
   "source": []
  }
 ],
 "metadata": {
  "kernelspec": {
   "display_name": "Python 3",
   "language": "python",
   "name": "python3"
  },
  "language_info": {
   "codemirror_mode": {
    "name": "ipython",
    "version": 3
   },
   "file_extension": ".py",
   "mimetype": "text/x-python",
   "name": "python",
   "nbconvert_exporter": "python",
   "pygments_lexer": "ipython3",
   "version": "3.7.3"
  }
 },
 "nbformat": 4,
 "nbformat_minor": 2
}
