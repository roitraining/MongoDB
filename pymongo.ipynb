{
 "cells": [
  {
   "cell_type": "markdown",
   "metadata": {},
   "source": [
    "## Import the pymongo package and connect to the cluster"
   ]
  },
  {
   "cell_type": "code",
   "execution_count": null,
   "metadata": {},
   "outputs": [],
   "source": [
    "import pymongo\n",
    "from pymongo import MongoClient\n",
    "client = MongoClient('localhost', 27017)\n",
    "print(client)"
   ]
  },
  {
   "cell_type": "markdown",
   "metadata": {},
   "source": [
    "## Get a reference to a database with either of these syntax options\n",
    "\n",
    "<p>\n",
    "<details><summary>Click for <b>java</b></summary>\n",
    "<p>\n",
    "\n",
    "```\n",
    "MongoDatabase db = mongoClient.getDatabase(\"productdb\");\n",
    "```\n",
    "</p>\n",
    "</details>\n",
    "<p>\n",
    "</details>\n"
   ]
  },
  {
   "cell_type": "code",
   "execution_count": null,
   "metadata": {},
   "outputs": [],
   "source": [
    "# Property notation\n",
    "db = client.productdb\n",
    "print(db)\n",
    "\n",
    "# Indexer notation\n",
    "db = client['productdb']\n",
    "print(db)\n",
    "\n",
    "# Indexer notation with a variable\n",
    "dbname = 'productdb'\n",
    "db = client[dbname]\n",
    "print(db)\n",
    "\n",
    "# Method call\n",
    "pr = client.get_database('productdb')\n",
    "print(pr)"
   ]
  },
  {
   "cell_type": "markdown",
   "metadata": {},
   "source": [
    "## Could use annotations to help show the data types. Annotations in Python give type hints that linters can use to try to identify potential bugs. It's not a strict as static typing but can be helpful and is also useful for prototyping in Python before converting to Java or C#."
   ]
  },
  {
   "cell_type": "code",
   "execution_count": null,
   "metadata": {},
   "outputs": [],
   "source": [
    "from pymongo.database import Database\n",
    "dbname: str = 'productdb'\n",
    "db: Database = client.get_database(dbname) \n",
    "print(db)\n",
    "print(type(db))"
   ]
  },
  {
   "cell_type": "markdown",
   "metadata": {},
   "source": [
    "## Show the collections in the database\n",
    "<p>\n",
    "<details><summary>Click for <b>javascript</b></summary>\n",
    "<p>\n",
    "\n",
    "```\n",
    "db.product.getCollectionNames()\n",
    "```\n",
    "</p>\n",
    "</details>\n",
    "<p>\n",
    "</details>"
   ]
  },
  {
   "cell_type": "code",
   "execution_count": null,
   "metadata": {},
   "outputs": [],
   "source": [
    "db.list_collection_names()\n",
    "\n",
    "# This is deprecated\n",
    "#db.collection_names()"
   ]
  },
  {
   "cell_type": "markdown",
   "metadata": {},
   "source": [
    "## Let's get rid of the collection and see how it is dynamically created when we first use it"
   ]
  },
  {
   "cell_type": "code",
   "execution_count": null,
   "metadata": {},
   "outputs": [],
   "source": [
    "db.products.drop()"
   ]
  },
  {
   "cell_type": "code",
   "execution_count": null,
   "metadata": {},
   "outputs": [],
   "source": [
    "print(db.list_collection_names())"
   ]
  },
  {
   "cell_type": "markdown",
   "metadata": {},
   "source": [
    "## The `insert` method still works but is deprecated and should be avoided\n",
    "<p>\n",
    "<details><summary>Click for <b>javascript</b></summary>\n",
    "<p>\n",
    "\n",
    "```\n",
    "db.products.insert({manufacturer: \"KitchenAid\", model:1})\n",
    "db.products.find({manufacturer: \"KitchenAid\"}```\n",
    "</p>\n",
    "</details>\n"
   ]
  },
  {
   "cell_type": "code",
   "execution_count": null,
   "metadata": {},
   "outputs": [],
   "source": [
    "# insert works but is deprecated\n",
    "db.products.insert({\"manufacturer\":\"KitchenAid\", \"model\":1})\n",
    "\n",
    "# find returns a cursor object, not the actual data\n",
    "print(db.products.find({\"manufacturer\":\"KitchenAid\"}))\n",
    "\n",
    "# fetch all the data by casting it to a list\n",
    "list(db.products.find({\"manufacturer\":\"KitchenAid\"}))"
   ]
  },
  {
   "cell_type": "markdown",
   "metadata": {},
   "source": [
    "## Use the newer methods `insert_one` and `insert_many`\n",
    "\n",
    "<p>\n",
    "<details><summary>Click for <b>java</b></summary>\n",
    "<p>\n",
    "\n",
    "```\n",
    "MongoCollection<Document> products = db.getCollection(\"products\");\n",
    "\n",
    "// insert one\n",
    "products.insertOne(new Document(\"_id\", new ObjectId()).append(\"manufacturer\", \"GE\").append(\"model\",2));\n",
    "\n",
    "// insert many\n",
    "List<Document> newproducts = new ArrayList<>();\n",
    "newproducts.add(new Document(\"manufacturer\", \"KitchenAid\").append(\"model\":3));\n",
    "newproducts.add(new Document(\"manufacturer\", \"Samsung\").append(\"model\":4));\n",
    "\n",
    "products.insertMany(newproducts, new InsertManyOptions().ordered(false));\n",
    " \n",
    "Document product1 = products.find(new Document(\"manufacturer\", \"KitchenAid\")).first();\n",
    "System.out.println(product1.toJson());\n",
    "\n",
    "// find one document with Filters.eq()\n",
    "Document product2 = products.find(eq(\"Manufacturer\", \"KitchenAid\")).first();\n",
    "System.out.println(product2.toJson());\n",
    "```\n",
    "</p>\n",
    "</details>"
   ]
  },
  {
   "cell_type": "code",
   "execution_count": null,
   "metadata": {},
   "outputs": [],
   "source": [
    "# Insert a single document\n",
    "db.products.insert_one({\"manufacturer\":\"GE\", 'model':2})\n",
    "\n",
    "# Bulk insert many documents by providing a list\n",
    "db.products.insert_many([{\"manufacturer\":\"KitchenAid\", 'model':3}, \n",
    "                         {\"manufacturer\":\"Samsung\", 'model':4}])\n",
    "\n",
    "list(db.products.find({\"manufacturer\":\"KitchenAid\"}))"
   ]
  },
  {
   "cell_type": "markdown",
   "metadata": {},
   "source": [
    "## The `find_one` function will find and return a Python dictionary of the requested document. If more than one match, it will return the first one based on the method it used to find it, such as whether it used an index, etc."
   ]
  },
  {
   "cell_type": "code",
   "execution_count": null,
   "metadata": {},
   "outputs": [],
   "source": [
    "products = db.products.find({\"manufacturer\":\"KitchenAid\"})\n",
    "for p in products:\n",
    "    print(p)"
   ]
  },
  {
   "cell_type": "markdown",
   "metadata": {},
   "source": [
    "## returns a single document not a collection of multiple documents"
   ]
  },
  {
   "cell_type": "code",
   "execution_count": null,
   "metadata": {},
   "outputs": [],
   "source": [
    "db.products.find_one()"
   ]
  },
  {
   "cell_type": "markdown",
   "metadata": {},
   "source": [
    "## Fetch the single document into a variable to work with it at the programming level in an optimistic locking style"
   ]
  },
  {
   "cell_type": "code",
   "execution_count": null,
   "metadata": {},
   "outputs": [],
   "source": [
    "product = db.products.find_one({\"manufacturer\":\"KitchenAid\"})\n",
    "product_id = product['_id']\n",
    "manufacturer = product['manufacturer']\n",
    "print(product_id, manufacturer)"
   ]
  },
  {
   "cell_type": "markdown",
   "metadata": {},
   "source": [
    "## Fetch a specific document by its `_id` property"
   ]
  },
  {
   "cell_type": "code",
   "execution_count": null,
   "metadata": {},
   "outputs": [],
   "source": [
    "# need to import the ObjectId function\n",
    "from bson.objectid import ObjectId\n",
    "db.products.find_one({\"_id\": ObjectId(product_id)})"
   ]
  },
  {
   "cell_type": "markdown",
   "metadata": {},
   "source": [
    "## The `find` function returns a cursor object, which you can iterate through with a loop or materialize by converting to a `list`"
   ]
  },
  {
   "cell_type": "code",
   "execution_count": null,
   "metadata": {},
   "outputs": [],
   "source": [
    "db.products.find()"
   ]
  },
  {
   "cell_type": "code",
   "execution_count": null,
   "metadata": {},
   "outputs": [],
   "source": [
    "list(db.products.find())"
   ]
  },
  {
   "cell_type": "code",
   "execution_count": null,
   "metadata": {},
   "outputs": [],
   "source": [
    "for product in db.products.find():\n",
    "    print(product)"
   ]
  },
  {
   "cell_type": "markdown",
   "metadata": {},
   "source": [
    "## You need to quote the special operators like `$gt`"
   ]
  },
  {
   "cell_type": "code",
   "execution_count": null,
   "metadata": {},
   "outputs": [],
   "source": [
    "list(db.products.find({\"model\": {\"$gt\" : 2}}))"
   ]
  },
  {
   "cell_type": "markdown",
   "metadata": {},
   "source": [
    "## There are several methods for counting documents"
   ]
  },
  {
   "cell_type": "code",
   "execution_count": null,
   "metadata": {},
   "outputs": [],
   "source": [
    "# db.products.count() #deprecated\n",
    "print(db.products.estimated_document_count())\n",
    "print(db.products.count_documents({'manufacturer':'KitchenAid', \"model\": {\"$gt\":2}}))\n"
   ]
  },
  {
   "cell_type": "markdown",
   "metadata": {},
   "source": [
    "## `delete` has a function for one or many, similar to `insert`"
   ]
  },
  {
   "cell_type": "code",
   "execution_count": null,
   "metadata": {},
   "outputs": [],
   "source": [
    "db.products.delete_one({\"manufacturer\":\"KitchenAid\"})\n",
    "list(db.products.find({\"manufacturer\":\"KitchenAid\"}))"
   ]
  },
  {
   "cell_type": "markdown",
   "metadata": {},
   "source": [
    "## And of course updating"
   ]
  },
  {
   "cell_type": "code",
   "execution_count": null,
   "metadata": {},
   "outputs": [],
   "source": [
    "# get rid of all the KitcheAid\n",
    "db.products.delete_many({\"manufacturer\":\"KitchenAid\"})\n",
    "\n",
    "# put some data in to update\n",
    "db.products.insert_many([{\"manufacturer\":\"KitchenAid\", 'model':5}, \n",
    "                         {\"manufacturer\":\"KitchenAid\", 'model':6}])\n",
    "\n",
    "db.products.update_one({\"manufacturer\":\"KitchenAid\"}, {\"$set\": {\"price\":100}})\n",
    "\n",
    "for p in db.products.find({\"manufacturer\":\"KitchenAid\"}):\n",
    "    print(p)\n",
    "\n",
    "print('-' * 20)\n",
    "db.products.update_many({\"manufacturer\":\"KitchenAid\"}, {\"$set\": {\"price\":200}})\n",
    "for p in db.products.find({\"manufacturer\":\"KitchenAid\"}):\n",
    "    print(p)\n"
   ]
  },
  {
   "cell_type": "markdown",
   "metadata": {},
   "source": [
    "## `upsert` is more Pythonic as an optional parameter is used instead of another dictionary in the third position"
   ]
  },
  {
   "cell_type": "code",
   "execution_count": null,
   "metadata": {},
   "outputs": [],
   "source": [
    "# Product 7 won't be added because upsert = False\n",
    "db.products.update_one({\"manufacturer\":\"KitchenAid\", \"model\":7}, {\"$set\": {\"price\":100}}\n",
    "                       , upsert = False)\n",
    "for p in db.products.find({\"manufacturer\":\"KitchenAid\"}):\n",
    "    print(p)\n",
    "\n",
    "print('-' * 20)\n",
    "\n",
    "# Product 8 will be added because upsert = True\n",
    "db.products.update_one({\"manufacturer\":\"KitchenAid\", \"model\":8}, {\"$set\": {\"price\":100}}\n",
    "                       , upsert = True)\n",
    "for p in db.products.find({\"manufacturer\":\"KitchenAid\"}):\n",
    "    print(p)\n"
   ]
  },
  {
   "cell_type": "markdown",
   "metadata": {},
   "source": [
    "## `replace_one` will use the search condition to find the document and replace it with new values, but preserving the `_id`"
   ]
  },
  {
   "cell_type": "code",
   "execution_count": null,
   "metadata": {},
   "outputs": [],
   "source": [
    "# fix model 8 in case it is wrong\n",
    "db.products.update_one({\"manufacturer\":\"KitchenAid\", \"model\":8}, {\"$set\": {\"price\":100}}\n",
    "                       , upsert = True)\n",
    "for p in db.products.find({\"manufacturer\":\"KitchenAid\"}):\n",
    "    print(p)\n",
    "\n",
    "print('-' * 20)\n",
    "\n",
    "product = db.products.find_one({\"manufacturer\":\"KitchenAid\", \"model\":8})\n",
    "product['model'] = 9\n",
    "product['price'] = 150\n",
    "product['cost'] = 100\n",
    "\n",
    "db.products.replace_one({\"_id\": ObjectId(product[\"_id\"])}\n",
    "                        , product)\n",
    "\n",
    "for p in db.products.find({\"manufacturer\":\"KitchenAid\"}):\n",
    "    print(p)\n",
    "\n",
    "\n",
    "# Note how the price disappeared; it's usually safer to use update methods than replace\n"
   ]
  },
  {
   "cell_type": "markdown",
   "metadata": {},
   "source": [
    "## Typically with an optimistic locking scheme, we would fetch one or more documents, modify them programmatically and then save them back to the collection."
   ]
  },
  {
   "cell_type": "code",
   "execution_count": null,
   "metadata": {},
   "outputs": [],
   "source": [
    "x = db.products.find_one({\"model\":9})\n",
    "print(x, type(x))\n",
    "x['price'] = 199\n",
    "x['colors'] = ['white', 'black']\n",
    "db.products.replace_one({\"model\":9}, x)\n",
    "print(db.products.find_one({\"model\":9}))"
   ]
  },
  {
   "cell_type": "markdown",
   "metadata": {},
   "source": [
    "## The `find_one_and_delete` function will return the original object in addition to deleting it\n",
    "\n",
    "<p>\n",
    "<details><summary>Click for <b>javascript</b></summary>\n",
    "<p>\n",
    "\n",
    "```\n",
    "p1 = db.products.findOneAndDelete({\"manufacturer\":\"KitchenAid\", \"model\":9})\n",
    "```\n",
    "</p>\n",
    "</details>\n",
    "<p>\n",
    "<details><summary>Click for <b>java</b></summary>\n",
    "<p>\n",
    "\n",
    "```\n",
    "Document p1 = db.products.findOneAndDelete(new BsonDocument.parse(\"{'manufacturer': 'KitchenAid', 'model':9}\"));\n",
    "```\n",
    "</p>\n",
    "</details>\n"
   ]
  },
  {
   "cell_type": "code",
   "execution_count": null,
   "metadata": {},
   "outputs": [],
   "source": [
    "p1 = db.products.find_one_and_delete({\"manufacturer\":\"KitchenAid\", \"model\":9})\n",
    "print(p1)\n",
    "\n",
    "print('-' * 20)\n",
    "\n",
    "for p in db.products.find({\"manufacturer\":\"KitchenAid\"}):\n",
    "    print(p)\n",
    "\n"
   ]
  },
  {
   "cell_type": "markdown",
   "metadata": {},
   "source": [
    "## The `find_one_and_update` function will return the original object in addition to updating it\n",
    "<p>\n",
    "<details><summary>Click for <b>javascript</b></summary>\n",
    "<p>\n",
    "\n",
    "```\n",
    "p1 = db.products.findOneAndUpdate({\"manufacturer\":\"KitchenAid\", \"model\":9}, {\"$set\":{\"price\":500}})\n",
    "```\n",
    "</p>\n",
    "</details>\n",
    "<p>\n",
    "<details><summary>Click for <b>java</b></summary>\n",
    "<p>\n",
    "\n",
    "```\n",
    "Document p1 = db.products.findOneAndUpdate(\n",
    "      new BsonDocument.parse(\"{'manufacturer': 'KitchenAid', 'model':5}\")\n",
    "    , new BsonDocument(\"$set\", new BSonDocument(\"price\",500) ) \n",
    "    );\n",
    "```\n",
    "</p>\n",
    "</details>\n",
    "\n"
   ]
  },
  {
   "cell_type": "code",
   "execution_count": null,
   "metadata": {},
   "outputs": [],
   "source": [
    "p1 = db.products.find_one_and_update({\"manufacturer\":\"KitchenAid\", \"model\":5}, \n",
    "                                     {\"$set\":{\"price\":500}})\n",
    "print(p1)\n",
    "\n",
    "print('-' * 20)\n",
    "\n",
    "for p in db.products.find({\"manufacturer\":\"KitchenAid\"}):\n",
    "    print(p)\n"
   ]
  },
  {
   "cell_type": "markdown",
   "metadata": {},
   "source": [
    "## The `find_one_and_replace` function will return the original object in addition to replacing it\n",
    "\n",
    "<p>\n",
    "<details><summary>Click for <b>javascript</b></summary>\n",
    "<p>\n",
    "\n",
    "```\n",
    "p1 = db.products.findOneAndReplace({\"manufacturer\":\"KitchenAid\", \"model\":9}\n",
    "                                 , {\"manufacturer\":\"KitchenAid\", \"model\":8}})\n",
    "```\n",
    "</p>\n",
    "</details>\n",
    "<p>\n",
    "<details><summary>Click for <b>java</b></summary>\n",
    "<p>\n",
    "\n",
    "```\n",
    "Document p1 = db.products.findOneAndReplace(\n",
    "      new BsonDocument(\"manufacturer\",\"KitchenAid\").append(\"model\", 9)\n",
    "    , new BsonDocument(\"manufacturer\",\"KitchenAid\").append(\"model\", 8)\n",
    "    );\n",
    "```\n",
    "</p>\n",
    "</details>\n",
    "\n"
   ]
  },
  {
   "cell_type": "code",
   "execution_count": null,
   "metadata": {},
   "outputs": [],
   "source": [
    "p1 = db.products.find_one_and_replace({\"manufacturer\":\"KitchenAid\", \"model\":5}\n",
    "                                      , {\"manufacturer\":\"KitchenAid\", \"model\":8})\n",
    "print(p1)\n",
    "\n",
    "print('-' * 20)\n",
    "\n",
    "for p in db.products.find({\"manufacturer\":\"KitchenAid\"}):\n",
    "    print(p)\n"
   ]
  },
  {
   "cell_type": "markdown",
   "metadata": {},
   "source": [
    "## LAB: ## \n",
    "### Use the Northwind database\n",
    "- List the collections\n",
    "- List the categories collection\n",
    "- Just display the CategoryID and CategoryName\n",
    "- Find all the products for Category 1\n",
    "- Insert a new record into products providing a CategoryID, ProductID = 100 ProductName and UnitPrice\n",
    "- Display the record\n",
    "- Update the record you just inserted to increase the price by 1\n",
    "- Display the record\n",
    "- Remove the record\n",
    "\n",
    "<br>\n",
    "<details><summary>Click for <b>code</b></summary>\n",
    "<p>\n",
    "\n",
    "```python\n",
    "nw = client.Northwind\n",
    "nw.list_collection_names()\n",
    "list(nw.categories.find())\n",
    "list(list(nw.categories.find({},{\"CategoryID\":1, \"CategoryName\":1, \"_id\":0})))\n",
    "list(nw.products.find({\"CategoryID\":1}))\n",
    "nw.products.insert_one({\"CategoryID\": 1, \"ProductID\":100, \"ProductName\":\"NewProduct\", \"UnitPrice\": 19})\n",
    "nw.products.find_one({\"ProductID\":100})\n",
    "nw.products.update_one({\"ProductID\":100}, {\"$inc\": {\"UnitPrice\":1}})\n",
    "nw.products.find_one({\"ProductID\":100})\n",
    "nw.products.delete_one({\"ProductID\":100})\n",
    "```\n",
    "</p>\n",
    "</details>"
   ]
  },
  {
   "cell_type": "code",
   "execution_count": null,
   "metadata": {},
   "outputs": [],
   "source": [
    "nw = client.Northwind\n",
    "nw.list_collection_names()\n",
    "nw.list_collection_names()\n",
    "list(nw.categories.find())\n",
    "list(list(nw.categories.find({},{\"CategoryID\":1, \"CategoryName\":1, \"_id\":0})))\n",
    "list(nw.products.find({\"CategoryID\":1}))\n",
    "nw.products.insert_one({\"CategoryID\": 1, \"ProductID\":100, \"ProductName\":\"NewProduct\", \"UnitPrice\": 19})\n",
    "nw.products.find_one({\"ProductID\":100})\n",
    "r = nw.products.update_one({\"ProductID\":100}, {\"$inc\": {\"UnitPrice\":1}})\n",
    "print(r.acknowledged)\n",
    "#dir(r)\n",
    "nw.products.find_one({\"ProductID\":100})\n",
    "# nw.products.delete_one({\"ProductID\":100})"
   ]
  },
  {
   "cell_type": "markdown",
   "metadata": {},
   "source": [
    "## Indexes can be used to speed up searches"
   ]
  },
  {
   "cell_type": "code",
   "execution_count": null,
   "metadata": {},
   "outputs": [],
   "source": [
    "db = client.productdb\n",
    "list(db.products.list_indexes())"
   ]
  },
  {
   "cell_type": "markdown",
   "metadata": {},
   "source": [
    "## There are a lot of optional parameters for indexes\n"
   ]
  },
  {
   "cell_type": "code",
   "execution_count": null,
   "metadata": {},
   "outputs": [],
   "source": [
    "help(db.products.create_index)"
   ]
  },
  {
   "cell_type": "markdown",
   "metadata": {},
   "source": [
    "## Create an index on the manufacturer key in ascending order\n",
    "<p>\n",
    "<details><summary>Click for <b>javascript</b></summary>\n",
    "<p>\n",
    "\n",
    "```\n",
    "db.products.createIndex({\"manufacturer\":1})\n",
    "db.products.getIndexes()\n",
    "db.products.findOne({\"manufacturer\":\"KitchenAid\"})\n",
    "db.products.dropIndex(\"manufacturer_1\")\n",
    "```\n",
    "</p>\n",
    "</details>\n",
    "<p>\n",
    "<details><summary>Click for <b>java</b></summary>\n",
    "<p>\n",
    "\n",
    "```\n",
    "...\n",
    "import com.mongodb.client.model.Indexes;\n",
    "...\n",
    "\n",
    "DB db = client.getDatabase(\"productdb\");\n",
    "MongoCollection<Document> products = db.getCollection(\"products\");\n",
    "products.createIndex(Indexes.ascending(\"manufacturer\"));\n",
    "products.getIndexes()\n",
    "products.dropIndex(\"manufacturer_1\")\n",
    "```\n",
    "</p>\n",
    "</details>\n"
   ]
  },
  {
   "cell_type": "code",
   "execution_count": null,
   "metadata": {},
   "outputs": [],
   "source": [
    "#db.products.create_index(\"manufacturer\")\n",
    "# print(list(db.products.list_indexes()))\n",
    "# print(db.products.find_one({\"manufacturer\":\"KitchenAid\"}))\n",
    "db.products.drop_index(\"manufacturer_1\")"
   ]
  },
  {
   "cell_type": "markdown",
   "metadata": {},
   "source": [
    "## Create a compound index on the `manufacturer` and `model` keys in ascending order\n",
    "<p>\n",
    "<details><summary>Click for <b>javascript</b></summary>\n",
    "<p>\n",
    "\n",
    "```\n",
    "db.products.createIndex({\"manufacturer\":1, \"model\":1})\n",
    "db.products.getIndexes()\n",
    "db.products.findOne({\"manufacturer\":\"KitchenAid\"})\n",
    "db.products.dropIndex(\"manufacturer_1_model_1\")\n",
    "```\n",
    "</p>\n",
    "</details>\n",
    "<p>\n",
    "<details><summary>Click for <b>java</b></summary>\n",
    "<p>\n",
    "\n",
    "```\n",
    "...\n",
    "import com.mongodb.client.model.Indexes;\n",
    "...\n",
    "\n",
    "DB db = client.getDatabase(\"productdb\");\n",
    "MongoCollection<Document> products = db.getCollection(\"products\");\n",
    "products.createIndex(Indexes.ascending(\"manufacturer\", \"model\"));\n",
    "products.getIndexes()\n",
    "products.dropIndex(\"manufacturer_1_model_1\")\n",
    "```\n",
    "</p>\n",
    "</details>\n"
   ]
  },
  {
   "cell_type": "code",
   "execution_count": null,
   "metadata": {},
   "outputs": [],
   "source": [
    "#db.products.create_index([(\"manufacturer\", 1), (\"model\", 1)], name = 'manufacturer_1_model_1')\n",
    "# print(list(db.products.list_indexes()))\n",
    "# print(db.products.find_one({\"manufacturer\":\"KitchenAid\", \"model\" : 6}))\n",
    "db.products.drop_index(\"manufacturer_1_model_1\")"
   ]
  },
  {
   "cell_type": "markdown",
   "metadata": {},
   "source": [
    "\n",
    "## Create a compound index on the `manufacturer` ascending and `model`  descending\n",
    "<p>\n",
    "<details><summary>Click for <b>javascript</b></summary>\n",
    "<p>\n",
    "\n",
    "```\n",
    "db.products.createIndex({\"manufacturer\":1, \"model\":-1})\n",
    "db.products.getIndexes()\n",
    "db.products.findOne({\"manufacturer\":\"KitchenAid\"})\n",
    "db.products.dropIndex(\"manufacturer_1_model_-1\")\n",
    "```\n",
    "</p>\n",
    "</details>\n",
    "<p>\n",
    "<details><summary>Click for <b>java</b></summary>\n",
    "<p>\n",
    "\n",
    "```\n",
    "...\n",
    "import com.mongodb.client.model.Indexes;\n",
    "...\n",
    "\n",
    "DB db = client.getDatabase(\"productdb\");\n",
    "MongoCollection<Document> products = db.getCollection(\"products\");\n",
    "// products.createIndex(Indexes.ascending(\"manufacturer\", \"model\"));\n",
    "products.createIndex(Indexes.compoundIndex(Indexes.ascending(\"manufacturer\"), Indexes.descending(\"model\")));\n",
    "products.getIndexes()\n",
    "products.dropIndex(\"manufacturer_1_model_1\")\n",
    "```\n",
    "</p>\n",
    "</details>\n",
    "\n",
    "\n"
   ]
  },
  {
   "cell_type": "code",
   "execution_count": null,
   "metadata": {},
   "outputs": [],
   "source": [
    "db.products.create_index([(\"manufacturer\", 1), (\"model\", -1)], name = 'manufacturer_1_model_-1')\n",
    "print(list(db.products.list_indexes()))\n",
    "print(db.products.find_one({\"manufacturer\":\"KitchenAid\"}))\n",
    "db.products.drop_index(\"manufacturer_1_model_-1\")"
   ]
  },
  {
   "cell_type": "markdown",
   "metadata": {},
   "source": [
    "## Python can also use the enums for ascending and descending instead of 1 or -1, and can also specify an index name"
   ]
  },
  {
   "cell_type": "code",
   "execution_count": null,
   "metadata": {},
   "outputs": [],
   "source": [
    "db.products.create_index([(\"manufacturer\", 1), (\"model\", pymongo.ASCENDING)], name = 'manufacturer_asc_model_asc')\n",
    "db.products.create_index([(\"manufacturer\", 1), (\"model\", pymongo.DESCENDING)], name = 'manufacturer_asc_model_desc')\n",
    "print(list(db.products.list_indexes()))\n",
    "\n"
   ]
  },
  {
   "cell_type": "markdown",
   "metadata": {},
   "source": [
    "## Can also use `hint` to force it to use a specific index"
   ]
  },
  {
   "cell_type": "code",
   "execution_count": null,
   "metadata": {},
   "outputs": [],
   "source": [
    "print(list(db.products.find({\"manufacturer\":\"KitchenAid\"}).hint('manufacturer_asc_model_asc')))\n",
    "print('*' * 20)\n",
    "print(list(db.products.find({\"manufacturer\":\"KitchenAid\"}).hint('manufacturer_asc_model_desc')))\n",
    "db.products.drop_index(\"manufacturer_asc_model_asc\")\n",
    "db.products.drop_index(\"manufacturer_asc_model_desc\")"
   ]
  },
  {
   "cell_type": "markdown",
   "metadata": {},
   "source": [
    "## Text indexes are also possible"
   ]
  },
  {
   "cell_type": "code",
   "execution_count": null,
   "metadata": {},
   "outputs": [],
   "source": [
    "from pymongo import TEXT\n",
    "db.products.update_one({\"manufacturer\":\"GE\"}, {\"$set\": {\"comment\": \"this product is on backorder\"}})\n",
    "db.products.update_one({\"manufacturer\":\"Samsung\"}, {\"$set\": {\"comment\": \"this product is in stock\"}})\n",
    "db.products.update_one({\"manufacturer\":\"KitchenAid\"}, {\"$set\": {\"comment\": \"backorder product\"}})\n",
    "list(db.products.find())\n",
    "db.products.create_index([(\"comment\", TEXT)], default_language = 'english')\n",
    "print(list(db.products.list_indexes()))"
   ]
  },
  {
   "cell_type": "markdown",
   "metadata": {},
   "source": [
    "## Use the `$text` and `$search` operators with find"
   ]
  },
  {
   "cell_type": "code",
   "execution_count": null,
   "metadata": {},
   "outputs": [],
   "source": [
    "#db.products.drop_index('comment_text')\n",
    "list(db.products.find({\"$text\": {\"$search\": \"backorder\"}}))\n"
   ]
  },
  {
   "cell_type": "markdown",
   "metadata": {},
   "source": [
    "## Sometimes it is desirable to put validators (like SQL constraints) onto a collection to guarantee it meets certain rules. To do this in mongosh it would look like this:\n",
    "```javascript\n",
    "db.createCollection(\"address\", {\n",
    "    validator:{\n",
    "        firstname: {$type:\"string\"}\n",
    "        }})\n",
    "\n",
    "```\n",
    "\n",
    "<p>\n",
    "<details><summary>Click for <b>java</b></summary>\n",
    "<p>\n",
    "\n",
    "```\n",
    "db.createCollection(\"address\", new CreateCollectionOptions()\n",
    "    .validationOptions(new ValidationOptions()\n",
    "                .validator(Document.parse(\"{ \\\"firstname\\\" : { \\\"type\\\" : \\\"string\\\" } }\"))));\n",
    "\n",
    "```\n",
    "</p>\n",
    "</details>\n",
    "\n",
    "## In Python, we would instead use the validator parameter"
   ]
  },
  {
   "cell_type": "code",
   "execution_count": null,
   "metadata": {},
   "outputs": [],
   "source": [
    "db.test.drop()\n",
    "db.create_collection(\"test\", validator = {\n",
    "                \"firstname\" : {\"$type\":\"string\"},\n",
    "                \"lastname\" : {\"$type\":\"string\"}\n",
    "        })\n",
    "print(db.list_collection_names())\n",
    "db.test.options().get('validator')"
   ]
  },
  {
   "cell_type": "code",
   "execution_count": null,
   "metadata": {
    "scrolled": true
   },
   "outputs": [],
   "source": [
    "#db.test.insert_one({\"firstname\":\"joey\", \"lastname\":\"gagliardo\"})\n",
    "#db.test.insert_one({\"firstname\":\"joey\", \"Lastname\":\"gagliardo\"})\n",
    "db.test.insert_one({\"firstname\":\"John\", \"lastname\":\"gagliardo\", 'city':'Miami'})\n",
    "list(db.test.find())"
   ]
  },
  {
   "cell_type": "markdown",
   "metadata": {},
   "source": [
    "## Get the current validator and modify it"
   ]
  },
  {
   "cell_type": "code",
   "execution_count": null,
   "metadata": {},
   "outputs": [],
   "source": [
    "email_regex = r'''^[^@\\s]+@[^@\\s\\.]+\\.[^@\\.\\s]+$'''\n",
    "\n",
    "v = db.test.options().get('validator')\n",
    "print(v)\n",
    "v[\"$or\"] =  [ {\"phone\": {\"$type\": \"string\"}}, \n",
    "              {\"email\": {\"$regex\": email_regex}},\n",
    "              {\"status\": {\"$in\": [\"active\",\"inactive\"]}}]\n",
    "print(v)\n",
    "\n",
    "db.command({\"collMod\":\"test\", \"validator\": v})\n",
    "db.test.options().get('validator')"
   ]
  },
  {
   "cell_type": "markdown",
   "metadata": {},
   "source": [
    "## Must have either an email or a phone number or status"
   ]
  },
  {
   "cell_type": "code",
   "execution_count": null,
   "metadata": {},
   "outputs": [],
   "source": [
    "#db.test.insert_one({\"firstname\":\"joey\", \"lastname\":\"gagliardo\"})\n",
    "\n",
    "#db.test.insert_one({\"firstname\":\"joey\", \"lastname\":\"gagliardo\", \"email\":\"joey@me.com\"})\n",
    "#db.test.insert_one({\"firstname\":\"joey\", \"lastname\":\"gagliardo\", \"email\":\"joey#me.com\"})\n",
    "\n",
    "#db.test.insert_one({\"firstname\":\"joey\", \"lastname\":\"gagliardo\", \"phone\":\"555-5555\"})\n",
    "\n",
    "#db.test.insert_one({\"firstname\":\"joey\", \"lastname\":\"gagliardo\", \"status\": \"active\"})\n",
    "#db.test.insert_one({\"firstname\":\"joey\", \"lastname\":\"gagliardo\", \"status\": \"unknown\"})\n"
   ]
  },
  {
   "cell_type": "markdown",
   "metadata": {},
   "source": [
    "## Aggregation pipelines are way to aggregate data, but also filter and sort it and more. You build a series of commands you want it to run and then submit that list or pipeline to the aggregate method."
   ]
  },
  {
   "cell_type": "code",
   "execution_count": null,
   "metadata": {},
   "outputs": [],
   "source": [
    "# The following is a template of what a pipeline would look like\n",
    "pipeline = [\n",
    "  { \"$match\" : { … } },\n",
    "  { \"$group\" : { … } },\n",
    "  { \"$sort\" : { … } },\n",
    "  { \"$unwind\" : { … } },\n",
    "  { \"$lookup\" : { … } },\n",
    "  ...\n",
    "]\n",
    "db.collectionName.aggregate(pipeline, options)"
   ]
  },
  {
   "cell_type": "markdown",
   "metadata": {},
   "source": [
    "## Regular find method"
   ]
  },
  {
   "cell_type": "code",
   "execution_count": null,
   "metadata": {
    "scrolled": false
   },
   "outputs": [],
   "source": [
    "db = client.Northwind\n",
    "#db.products.create_index([(\"ProductName\", 1)])\n",
    "\n",
    "list(db.products.find({\"ProductName\":\"Chang\"}))"
   ]
  },
  {
   "cell_type": "markdown",
   "metadata": {},
   "source": [
    "## The pipeline must be a list of dictionaries that have the operations you want to perform. Here is a simple filter using the `$match` operator."
   ]
  },
  {
   "cell_type": "code",
   "execution_count": null,
   "metadata": {},
   "outputs": [],
   "source": [
    "pipeline = [{\"$match\": { \"ProductName\":\"Chang\"}}]\n",
    "list(db.products.aggregate(pipeline))"
   ]
  },
  {
   "cell_type": "code",
   "execution_count": null,
   "metadata": {},
   "outputs": [],
   "source": [
    "\n",
    "list(db.products.aggregate([\n",
    "  { \"$match\" : { \"CategoryID\" : 1 } }\n",
    "]))"
   ]
  },
  {
   "cell_type": "markdown",
   "metadata": {},
   "source": [
    "## This example combines a filter and a sort together"
   ]
  },
  {
   "cell_type": "code",
   "execution_count": null,
   "metadata": {},
   "outputs": [],
   "source": [
    "pipeline = [{\"$match\": { \"CategoryID\":1}}\n",
    "           ,{\"$sort\": {\"ProductID\": 1}}]\n",
    "list(db.products.aggregate(pipeline))"
   ]
  },
  {
   "cell_type": "markdown",
   "metadata": {},
   "source": [
    "## Adding a `$project` operator allows you to include/exclude and rename fields. Note the use of the `$` in front of the field name."
   ]
  },
  {
   "cell_type": "code",
   "execution_count": null,
   "metadata": {},
   "outputs": [],
   "source": [
    "#list(db.products.find({\"CategoryID\":1}, {\"_id\":0, \"ProductID\":1, \"Name\":\"$ProductName\"}).sort(\"ProductID\"))\n",
    "pipeline = [{\"$match\": {\"CategoryID\":1}}\n",
    "           ,{\"$sort\": {\"ProductID\": 1}}\n",
    "           ,{\"$project\": {\"_id\":0, \"ProductID\":1, \"Name\": \"$ProductName\"}}]\n",
    "list(db.products.aggregate(pipeline))"
   ]
  },
  {
   "cell_type": "markdown",
   "metadata": {},
   "source": [
    "## Add a limit operator to return a fixed number of documents "
   ]
  },
  {
   "cell_type": "code",
   "execution_count": null,
   "metadata": {},
   "outputs": [],
   "source": [
    "pipeline1 = [{\"$match\": { \"CategoryID\":1}}\n",
    "           ,{\"$sort\": {\"UnitPrice\": -1}}\n",
    "           ,{\"$project\": {\"_id\":0, \"ProductID\":1, \"ProductName\":1, \"UnitPrice\":1}}\n",
    "           ,{\"$limit\":5}]\n",
    "list(db.products.aggregate(pipeline1))"
   ]
  },
  {
   "cell_type": "markdown",
   "metadata": {},
   "source": [
    "## The group operator is really like a distinct clause in SQL to find all the distinct values for the grouping columns. You must call the column you want to group on _id, but you can rename it later with a project."
   ]
  },
  {
   "cell_type": "code",
   "execution_count": null,
   "metadata": {},
   "outputs": [],
   "source": [
    "pipeline = [{\"$group\": { \"_id\": \"$CategoryID\"}}]\n",
    "list(db.products.aggregate(pipeline)) \n",
    "# SELECT DISTINCT CategoryID AS _id FROM products\n",
    "# SELECT CategoryID AS _id FROM products GROUP BY CategoryID\n"
   ]
  },
  {
   "cell_type": "markdown",
   "metadata": {},
   "source": [
    "## To add aggregates to the mix, create the alias you want the column to have and the operation to perform. In this example, summing up a one for each document gives a count."
   ]
  },
  {
   "cell_type": "code",
   "execution_count": null,
   "metadata": {},
   "outputs": [],
   "source": [
    "pipeline = [{\"$group\": { \"_id\": \"$CategoryID\", \"product_count\": {\"$sum\":1}}}]\n",
    "list(db.products.aggregate(pipeline)) \n",
    "# SELECT CategoryID AS _id, COUNT(*) AS product_count FROM products GROUP BY CategoryID\n"
   ]
  },
  {
   "cell_type": "markdown",
   "metadata": {},
   "source": [
    "## Could use \\$sum and \\$avg and other aggregate operators"
   ]
  },
  {
   "cell_type": "code",
   "execution_count": null,
   "metadata": {},
   "outputs": [],
   "source": [
    "pipeline = [{\"$group\": { \"_id\": \"$CategoryID\"\n",
    "                        , \"product_count\": {\"$sum\":1}\n",
    "                        , \"product_total\": {\"$sum\":\"$UnitPrice\"}\n",
    "                        , \"product_avg\": {\"$avg\":\"$UnitPrice\"}\n",
    "                       }\n",
    "            }]\n",
    "list(db.products.aggregate(pipeline)) \n",
    "# SELECT CategoryID AS _id\n",
    "# , COUNT(*) AS product_count\n",
    "# , SUM(UnitPrice) AS product_total\n",
    "# , AVG(UnitPrice) AS product_avg\n",
    "# FROM products GROUP BY CategoryID\n"
   ]
  },
  {
   "cell_type": "markdown",
   "metadata": {},
   "source": [
    "## Doing a $match after grouping is like a HAVING clause"
   ]
  },
  {
   "cell_type": "code",
   "execution_count": null,
   "metadata": {},
   "outputs": [],
   "source": [
    "# Make constants instead of using the `$` operators and can call them whatever you like to make it more SQL like\n",
    "GROUP = \"$group\"\n",
    "FILTER = \"$match\"\n",
    "HAVING = \"$match\"\n",
    "SELECT = \"$project\"\n",
    "pipeline = [{GROUP: { \"_id\": \"$CategoryID\"\n",
    "                        , \"product_count\": {\"$sum\":1}\n",
    "                        , \"product_total\": {\"$sum\":\"$UnitPrice\"}\n",
    "                        , \"product_avg\": {\"$avg\":\"$UnitPrice\"}\n",
    "                       }\n",
    "            }\n",
    "            , {HAVING: {\"product_total\": {\"$gte\":10}}}\n",
    "            , {SELECT: {\"CategoryID\":\"$_id\", \"product_avg\":1, \"product_count\":1, \"product_total\":1, \"_id\":0}}\n",
    "           ]\n",
    "list(db.products.aggregate(pipeline)) \n",
    "# SELECT CategoryID AS _id\n",
    "# , COUNT(*) AS product_count\n",
    "# , SUM(UnitPrice) AS product_total\n",
    "# , AVG(UnitPrice) AS product_avg\n",
    "# FROM products GROUP BY CategoryID\n",
    "# HAVING COUNT(*) >= 10\n"
   ]
  },
  {
   "cell_type": "markdown",
   "metadata": {},
   "source": [
    "## The `$push` operator can be used to create a list of nested children items to get a nested repeating effect similar to the Hive `COLLECT_LIST` function"
   ]
  },
  {
   "cell_type": "code",
   "execution_count": null,
   "metadata": {},
   "outputs": [],
   "source": [
    "pipeline = [{\"$group\": { \"_id\": \"$CategoryID\"\n",
    "                        , \"product_count\": {\"$sum\": 1}\n",
    "                        , \"product_avg\": {\"$avg\": \"$UnitPrice\"}\n",
    "                        , \"product_list\": {\"$push\": \"$ProductName\" }\n",
    "                       }\n",
    "            }\n",
    "            , {\"$project\": {\"CategoryID\":\"$_id\", \"product_count\":1, \"product_avg\":1, \"product_list\":1, \"_id\":0}}\n",
    "           ]\n",
    "                        \n",
    "list(db.products.aggregate(pipeline)) \n",
    "\n",
    "# MySQL GROUP_CONCAT  rows A B C    --> \"A, B, C\"\n",
    "# Hive COLLECT_LIST   rows A B C    --> [\"A\", \"B\", \"C\"]\n",
    "# SELECT CategoryID, COUNT(*) AS product_count\n",
    "# , AVG(UnitPrice) AS product_avg, COLLECT_LIST(ProductName)\n",
    "# FROM Products\n",
    "# GROUP BY CategoryID\n",
    "\n",
    "# BigQuery ARRAY_AGG()"
   ]
  },
  {
   "cell_type": "markdown",
   "metadata": {},
   "source": [
    "## You can also collect a list of multiple fields together to create a list of structures"
   ]
  },
  {
   "cell_type": "code",
   "execution_count": null,
   "metadata": {},
   "outputs": [],
   "source": [
    "pipeline = [{\"$group\": { \"_id\": \"$CategoryID\"\n",
    "                        ,\"Products\" : { \"$push\": {\"ProductID\": \"$ProductID\"\n",
    "                                                  ,\"ProductName\": \"$ProductName\"\n",
    "                                                  , \"UnitPrice\": \"$UnitPrice\"}}\n",
    "                        }\n",
    "             }\n",
    "            ,{\"$project\": {\"CategoryID\": \"$_id\", \"Products\":1, \"_id\":0}}\n",
    "            ]\n",
    "                        \n",
    "list(db.products.aggregate(pipeline)) \n"
   ]
  },
  {
   "cell_type": "markdown",
   "metadata": {},
   "source": [
    "## Here, we combine many elements together"
   ]
  },
  {
   "cell_type": "code",
   "execution_count": null,
   "metadata": {},
   "outputs": [],
   "source": [
    "pipeline = [{\"$group\": { \"_id\": \"$CategoryID\"\n",
    "                        ,\"product_list\" : { \"$push\": {\"ProductID\": \"$ProductID\"\n",
    "                                                  ,\"ProductName\": \"$ProductName\"\n",
    "                                                  , \"UnitPrice\": \"$UnitPrice\"}}\n",
    "                        , \"product_count\": {\"$sum\": 1}\n",
    "                        , \"product_avg\": {\"$avg\": \"$UnitPrice\"}\n",
    "                        }\n",
    "             }\n",
    "            , {\"$project\": {\"CategoryID\": \"$_id\", \"product_count\": 1, \"product_avg\": 1, \"product_list\":1, \"_id\":0}}\n",
    "            , {\"$match\": {\"product_count\": {\"$gte\":10}}}\n",
    "            , {\"$sort\": {\"product_count\": -1, \"product_avg\":1}}\n",
    "            ]\n",
    "   \n",
    "x = db.products.aggregate(pipeline)\n",
    "list(x)\n"
   ]
  },
  {
   "cell_type": "markdown",
   "metadata": {},
   "source": [
    "## Let's save the results of the nested outcome to a collection"
   ]
  },
  {
   "cell_type": "code",
   "execution_count": null,
   "metadata": {
    "scrolled": true
   },
   "outputs": [],
   "source": [
    "pipeline = [{\"$group\": { \"_id\": \"$CategoryID\"\n",
    "                        ,\"product_list\" : { \"$push\": {\"ProductID\": \"$ProductID\"\n",
    "                                                  ,\"ProductName\": \"$ProductName\"\n",
    "                                                  , \"UnitPrice\": \"$UnitPrice\"}}\n",
    "                        , \"product_count\": {\"$sum\": 1}\n",
    "                        , \"product_avg\": {\"$avg\": \"$UnitPrice\"}\n",
    "                        }\n",
    "             }\n",
    "            , {\"$project\": {\"CategoryID\": \"$_id\", \"product_count\": 1, \"product_avg\": 1, \"product_list\":1, \"_id\":0}}\n",
    "            , {\"$match\": {\"product_count\": {\"$gte\":10}}}\n",
    "            , {\"$sort\": {\"product_count\": -1, \"product_avg\":1}}\n",
    "            ]\n",
    "\n",
    "# get rid of what may have been there from before\n",
    "db.products_nested.drop()\n",
    "\n",
    "# get the results back to the client\n",
    "x = db.products.aggregate(pipeline)\n",
    "\n",
    "# save the results to a collection\n",
    "db.products_nested.insert_many(x)\n",
    "list(db.products_nested.find())"
   ]
  },
  {
   "cell_type": "markdown",
   "metadata": {},
   "source": [
    "## A better option is to use the `$out` operator in the pipeline to let the Mongo API directly do it in one step"
   ]
  },
  {
   "cell_type": "code",
   "execution_count": null,
   "metadata": {},
   "outputs": [],
   "source": [
    "db.products_nested.drop()\n",
    "pipeline.append({\"$out\": {\"db\": \"Northwind\", \"coll\": \"products_nested\"}})\n",
    "print(pipeline)\n",
    "\n",
    "db.products.aggregate(pipeline)\n",
    "list(db.products_nested.find())"
   ]
  },
  {
   "cell_type": "markdown",
   "metadata": {},
   "source": [
    "## Suppose you have some nested data and want to flatten or unnest it back to a traditional denormalized format, use the `$unwind` operator"
   ]
  },
  {
   "cell_type": "code",
   "execution_count": null,
   "metadata": {},
   "outputs": [],
   "source": [
    "pipeline = [{\"$unwind\": \"$product_list\"}]\n",
    "x = db.products_nested.aggregate(pipeline)\n",
    "list(x)\n"
   ]
  },
  {
   "cell_type": "markdown",
   "metadata": {},
   "source": [
    "## The results are a bit funny looking, so use `$project` to fix them up"
   ]
  },
  {
   "cell_type": "code",
   "execution_count": null,
   "metadata": {},
   "outputs": [],
   "source": [
    "pipeline = [{\"$unwind\": \"$product_list\"}\n",
    "           ,{\"$project\": {\"CategoryID\":1, \"product_avg\":1, \"product_count\":1\n",
    "                          , \"ProductID\":\"$product_list.ProductID\"\n",
    "                          , \"ProductName\":\"$product_list.ProductName\"\n",
    "                          , \"UnitPrice\":\"$product_list.UnitPrice\"\n",
    "                          , \"_id\":0}}]\n",
    "x = db.products_nested.aggregate(pipeline)\n",
    "list(x)\n",
    "\n",
    "# LATERAL VIEW EXPLODED"
   ]
  },
  {
   "cell_type": "markdown",
   "metadata": {},
   "source": [
    "## Generally, a MongoDB database should not rely on relational structure but instead each document should contain everything it needs, but if you need to, you can use a `$lookup` operator which is sort of like using a `JOIN` or correlated subquery in SQL. \n",
    "<br>\n",
    "`\n",
    "SELECT ProductID, ProductName, CategoryID\n",
    "       , (SELECT CategoryName \n",
    "       FROM Categories AS c WHERE c.CategoryID = p.CategoryID) AS CategoryName\n",
    " FROM Products AS p`\n",
    "<br>\n",
    "<br>\n",
    "`\n",
    "SELECT p.ProductID, p.ProductName, p.CategoryID, c.CategoryName\n",
    " FROM Products AS p\n",
    " LEFT JOIN Categories AS c ON p.CategoryID = c.CategoryID`\n",
    "<br>\n",
    "##Except the looked up collection embeds all the documents as a list into the outer table. It's the same as we would get from the `$push` operation."
   ]
  },
  {
   "cell_type": "code",
   "execution_count": null,
   "metadata": {},
   "outputs": [],
   "source": [
    "pipeline = [{\"$lookup\": {\"from\": \"products\"\n",
    "                        , \"localField\": \"CategoryID\"\n",
    "                        , \"foreignField\": \"CategoryID\"\n",
    "                        , \"as\": \"Products\"}}\n",
    "            ]\n",
    "x = db.categories.aggregate(pipeline)\n",
    "list(x)\n"
   ]
  },
  {
   "cell_type": "markdown",
   "metadata": {},
   "source": [
    "## If we want to flatten it out to look like the normal result of a SQL JOIN, use `$unwind` and `$project`."
   ]
  },
  {
   "cell_type": "code",
   "execution_count": null,
   "metadata": {},
   "outputs": [],
   "source": [
    "pipeline = [{\"$lookup\": {\"from\": \"products\"\n",
    "                        , \"localField\": \"CategoryID\"\n",
    "                        , \"foreignField\": \"CategoryID\"\n",
    "                        , \"as\": \"Products\"}}\n",
    "            , {\"$unwind\": \"$Products\"}\n",
    "            , {\"$project\": {\"_id\":0, \"CategoryID\":1, \"CategoryName\":1\n",
    "                            , \"ProductID\":\"$Products.ProductID\"\n",
    "                            , \"ProductName\": \"$Products.ProductName\"\n",
    "                            , \"UnitPrice\": \"$Products.UnitPrice\"\n",
    "                           }}\n",
    "            ]\n",
    "x = db.categories.aggregate(pipeline)\n",
    "list(x)"
   ]
  },
  {
   "cell_type": "markdown",
   "metadata": {},
   "source": [
    "## If we do it in the opposite order, this time from the child to the parent, even though there is only one category per product, it still returns the single category document in an array."
   ]
  },
  {
   "cell_type": "code",
   "execution_count": null,
   "metadata": {},
   "outputs": [],
   "source": [
    "pipeline = [{\"$lookup\": {\"from\": \"categories\"\n",
    "                        , \"localField\": \"CategoryID\"\n",
    "                        , \"foreignField\": \"CategoryID\"\n",
    "                        , \"as\": \"Category\"}}\n",
    "            ]\n",
    "x = db.products.aggregate(pipeline)\n",
    "list(x)\n",
    "\n"
   ]
  },
  {
   "cell_type": "markdown",
   "metadata": {},
   "source": [
    "## Could use `$unwind` and `$project` to make it normal looking, but if there are more than one categories for a product it would repeat the product record twice. "
   ]
  },
  {
   "cell_type": "code",
   "execution_count": null,
   "metadata": {},
   "outputs": [],
   "source": [
    "pipeline = [{\"$lookup\": {\"from\": \"categories\"\n",
    "                        , \"localField\": \"CategoryID\"\n",
    "                        , \"foreignField\": \"CategoryID\"\n",
    "                        , \"as\": \"Categories\"}}\n",
    "            ,{\"$unwind\": \"$Categories\"}\n",
    "           ,{\"$project\": {\"CategoryID\": \"$Categories.CategoryID\"\n",
    "                          , \"CategoryName\": \"$Categories.CategoryName\"\n",
    "                          , \"ProductID\":1, \"ProductName\":1, \"UnitPrice\":1, \"_id\":0}}\n",
    "            ]\n",
    "x = db.products.aggregate(pipeline)\n",
    "list(x)\n"
   ]
  },
  {
   "cell_type": "markdown",
   "metadata": {},
   "source": [
    "## So an alterate logic would be to just pick the first record out of the collection using  `$project` to fix it up. Here we use two `$project` clauses to first get the list of just CategoryNames, then get only the first element of that"
   ]
  },
  {
   "cell_type": "code",
   "execution_count": null,
   "metadata": {},
   "outputs": [],
   "source": [
    "pipeline = [{\"$lookup\": {\"from\": \"categories\"\n",
    "                        , \"localField\": \"CategoryID\"\n",
    "                        , \"foreignField\": \"CategoryID\"\n",
    "                        , \"as\": \"Categories\"}}\n",
    "            ,{\"$project\": {\"CategoryID\":1, \"CategoryNames\":\"$Categories.CategoryName\", \"ProductID\":1, \"ProductName\":1, \"UnitPrice\":1}}\n",
    "            ,{\"$project\": {\"_id\":0, \"CategoryID\":1, \"Name\": {\"$arrayElemAt\": [\"$CategoryNames\", 0] }, \"ProductID\":1, \"ProductName\":1, \"UnitPrice\":1}}\n",
    "            ]\n",
    "x = db.products.aggregate(pipeline)\n",
    "list(x)\n"
   ]
  },
  {
   "cell_type": "markdown",
   "metadata": {},
   "source": [
    "## Instead of using two `$projects` we could combine it into one more complicated one also"
   ]
  },
  {
   "cell_type": "code",
   "execution_count": null,
   "metadata": {},
   "outputs": [],
   "source": [
    "pipeline = [{\"$lookup\": {\"from\": \"categories\"\n",
    "                        , \"localField\": \"CategoryID\"\n",
    "                        , \"foreignField\": \"CategoryID\"\n",
    "                        , \"as\": \"Categories\"}}\n",
    "            ,{\"$project\": {\"CategoryID\":1, \"CategoryName\":{\"$arrayElemAt\": [\"$Categories.CategoryName\", 0] }, \"ProductID\":1, \"ProductName\":1, \"UnitPrice\":1, \"_id\":0}}\n",
    "            ]\n",
    "x = db.products.aggregate(pipeline)\n",
    "list(x)\n"
   ]
  },
  {
   "cell_type": "code",
   "execution_count": null,
   "metadata": {},
   "outputs": [],
   "source": [
    "db = client['Northwind']\n",
    "db.list_collection_names()\n"
   ]
  },
  {
   "cell_type": "markdown",
   "metadata": {},
   "source": [
    "## LAB: ## \n",
    "### Use the Northwind database\n",
    "- Group the customers collection by country\n",
    "- Show the total number of customers in each country and a list of those customers\n",
    "- Only show countries with at least two customers\n",
    "- Sort the list in descending order by count and ascending by country name\n",
    "\n",
    "<br>\n",
    "<details><summary>Click for <b>hint</b></summary>\n",
    "<p>\n",
    "Use \\$group \\$project \\$match \\$sort in an aggregate pipeline\n",
    "<br>\n",
    "Use \\$sum to get total customers per country\n",
    "<br>\n",
    "Use \\$push to create a list of CustomerID and CompanyName\n",
    "<br>\n",
    "</p>\n",
    "</details>\n",
    "<br>\n",
    "<details><summary>Click for <b>code</b></summary>\n",
    "<p>\n",
    "\n",
    "```python\n",
    "pipeline = [\n",
    "    {\"$group\": {\"_id\": \"$Country\"\n",
    "              , \"customer_count\": {\"$sum\": 1}\n",
    "              , \"Customers\": {\"$push\":  {\"CustomerID\": \"$CustomerID\", \"CompanyName\": \"$CompanyName\"}}\n",
    "                      }}\n",
    "    ,{\"$project\": {\"_id\":0, \"Country\":\"$_id\", \"customer_count\":1, \"Customers\":1}}\n",
    "    ,{\"$match\": {\"customer_count\": {\"$gt\":1}}}\n",
    "    ,{\"$sort\": {\"customer_count\": -1, \"Country\":1}}    \n",
    "           ]\n",
    "list(db.customers.aggregate(pipeline))\n",
    "```\n",
    "</p>\n",
    "</details>"
   ]
  },
  {
   "cell_type": "code",
   "execution_count": null,
   "metadata": {},
   "outputs": [],
   "source": []
  }
 ],
 "metadata": {
  "kernelspec": {
   "display_name": "Python 3",
   "language": "python",
   "name": "python3"
  },
  "language_info": {
   "codemirror_mode": {
    "name": "ipython",
    "version": 3
   },
   "file_extension": ".py",
   "mimetype": "text/x-python",
   "name": "python",
   "nbconvert_exporter": "python",
   "pygments_lexer": "ipython3",
   "version": "3.6.9"
  }
 },
 "nbformat": 4,
 "nbformat_minor": 2
}
