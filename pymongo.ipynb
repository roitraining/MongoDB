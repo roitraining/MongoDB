{
 "cells": [
  {
   "cell_type": "markdown",
   "metadata": {},
   "source": [
    "## Import the pymongo package and connect to the cluster"
   ]
  },
  {
   "cell_type": "code",
   "execution_count": null,
   "metadata": {},
   "outputs": [],
   "source": [
    "import pymongo\n",
    "from pymongo import MongoClient\n",
    "client = MongoClient('localhost', 27017)"
   ]
  },
  {
   "cell_type": "markdown",
   "metadata": {},
   "source": [
    "## Get a reference to a database with either of these syntax options"
   ]
  },
  {
   "cell_type": "code",
   "execution_count": null,
   "metadata": {},
   "outputs": [],
   "source": [
    "db = client['productdb']\n",
    "print(db)"
   ]
  },
  {
   "cell_type": "code",
   "execution_count": null,
   "metadata": {},
   "outputs": [],
   "source": [
    "db = client.productdb\n",
    "print(db)"
   ]
  },
  {
   "cell_type": "markdown",
   "metadata": {},
   "source": [
    "## Examine the reference to the collection"
   ]
  },
  {
   "cell_type": "code",
   "execution_count": null,
   "metadata": {},
   "outputs": [],
   "source": [
    "print(db.productdb)"
   ]
  },
  {
   "cell_type": "markdown",
   "metadata": {},
   "source": [
    "## Show the collections in the database"
   ]
  },
  {
   "cell_type": "code",
   "execution_count": null,
   "metadata": {},
   "outputs": [],
   "source": [
    "db.list_collection_names()"
   ]
  },
  {
   "cell_type": "markdown",
   "metadata": {},
   "source": [
    "## Let's get rid of the collection and see how it is dynamically created when we first use it"
   ]
  },
  {
   "cell_type": "code",
   "execution_count": null,
   "metadata": {},
   "outputs": [],
   "source": [
    "db.products.drop()"
   ]
  },
  {
   "cell_type": "markdown",
   "metadata": {},
   "source": [
    "## There are functions to insert one or many records"
   ]
  },
  {
   "cell_type": "code",
   "execution_count": null,
   "metadata": {},
   "outputs": [],
   "source": [
    "db.products.insert({\"manufacturer\":\"KitchenAid\", 'model':1})\n",
    "\n",
    "list(db.products.find({\"manufacturer\":\"KitchenAid\"}))"
   ]
  },
  {
   "cell_type": "code",
   "execution_count": null,
   "metadata": {},
   "outputs": [],
   "source": [
    "db.products.insert_one({\"manufacturer\":\"KitchenAid\", 'model':2})\n",
    "db.products.insert_many([{\"manufacturer\":\"KitchenAid\", 'model':3}, \n",
    "                         {\"manufacturer\":\"KitchenAid\", 'model':4}])\n",
    "\n",
    "list(db.products.find({\"manufacturer\":\"KitchenAid\"}))"
   ]
  },
  {
   "cell_type": "markdown",
   "metadata": {},
   "source": [
    "## Don't use deprecated functions, favor the newer ones"
   ]
  },
  {
   "cell_type": "markdown",
   "metadata": {},
   "source": [
    "## The find_one function will find and return a Python dictionary of the document"
   ]
  },
  {
   "cell_type": "code",
   "execution_count": null,
   "metadata": {},
   "outputs": [],
   "source": [
    "db.products.find_one()"
   ]
  },
  {
   "cell_type": "markdown",
   "metadata": {},
   "source": [
    "## All the same search parameters apply here as they do for the shell"
   ]
  },
  {
   "cell_type": "code",
   "execution_count": null,
   "metadata": {},
   "outputs": [],
   "source": [
    "db.products.find_one({\"manufacturer\":\"KitchenAid\"})"
   ]
  },
  {
   "cell_type": "markdown",
   "metadata": {},
   "source": [
    "## The find function returns a cursor object, which you can materialize with by converting to a list, or iterate through with a loop"
   ]
  },
  {
   "cell_type": "code",
   "execution_count": null,
   "metadata": {},
   "outputs": [],
   "source": [
    "db.products.find()\n"
   ]
  },
  {
   "cell_type": "code",
   "execution_count": null,
   "metadata": {},
   "outputs": [],
   "source": [
    "list(db.products.find())"
   ]
  },
  {
   "cell_type": "code",
   "execution_count": null,
   "metadata": {},
   "outputs": [],
   "source": [
    "for product in db.products.find():\n",
    "    print(product)"
   ]
  },
  {
   "cell_type": "markdown",
   "metadata": {},
   "source": [
    "## You need to quote the special operators like $gt"
   ]
  },
  {
   "cell_type": "code",
   "execution_count": null,
   "metadata": {},
   "outputs": [],
   "source": [
    "list(db.products.find({\"model\": {\"$gt\" : 2}}))"
   ]
  },
  {
   "cell_type": "markdown",
   "metadata": {},
   "source": [
    "## There are several methods for counting documents"
   ]
  },
  {
   "cell_type": "code",
   "execution_count": null,
   "metadata": {},
   "outputs": [],
   "source": [
    "# db.products.count() #deprecated\n",
    "print(db.products.estimated_document_count())\n",
    "print(db.products.count_documents({'manufacturer':'KitchenAid', \"model\": {\"$gt\":2}}))\n",
    "\n"
   ]
  },
  {
   "cell_type": "markdown",
   "metadata": {},
   "source": [
    "## Delete has a function for one or many, similar to insert"
   ]
  },
  {
   "cell_type": "code",
   "execution_count": null,
   "metadata": {},
   "outputs": [],
   "source": [
    "db.products.delete_one({\"manufacturer\":\"KitchenAid\"})\n",
    "list(db.products.find({\"manufacturer\":\"KitchenAid\"}))"
   ]
  },
  {
   "cell_type": "code",
   "execution_count": null,
   "metadata": {},
   "outputs": [],
   "source": [
    "db.products.delete_many({\"manufacturer\":\"KitchenAid\"})\n",
    "list(db.products.find({\"manufacturer\":\"KitchenAid\"}))"
   ]
  },
  {
   "cell_type": "markdown",
   "metadata": {},
   "source": [
    "## And of course updating"
   ]
  },
  {
   "cell_type": "code",
   "execution_count": null,
   "metadata": {},
   "outputs": [],
   "source": [
    "# put some data in to update\n",
    "db.products.insert_many([{\"manufacturer\":\"KitchenAid\", 'model':5}, \n",
    "                         {\"manufacturer\":\"KitchenAid\", 'model':6}])\n",
    "\n",
    "db.products.update_one({\"manufacturer\":\"KitchenAid\"}, {\"$set\": {\"price\":100}})\n",
    "print(list(db.products.find({\"manufacturer\":\"KitchenAid\"})))\n",
    "\n",
    "db.products.update_many({\"manufacturer\":\"KitchenAid\"}, {\"$set\": {\"price\":200}})\n",
    "print(list(db.products.find({\"manufacturer\":\"KitchenAid\"})))"
   ]
  },
  {
   "cell_type": "markdown",
   "metadata": {},
   "source": [
    "## Upsert is more Pythonic as a parameter instead of another dictionary"
   ]
  },
  {
   "cell_type": "code",
   "execution_count": null,
   "metadata": {},
   "outputs": [],
   "source": [
    "db.products.update_one({\"manufacturer\":\"KitchenAid\", \"model\":7}, {\"$set\": {\"price\":100}}\n",
    "                       , upsert = False)\n",
    "print(list(db.products.find({\"manufacturer\":\"KitchenAid\"})))\n",
    "\n",
    "print('-' * 20)\n",
    "db.products.update_one({\"manufacturer\":\"KitchenAid\", \"model\":8}, {\"$set\": {\"price\":100}}\n",
    "                       , upsert = True)\n",
    "print(list(db.products.find({\"manufacturer\":\"KitchenAid\"})))\n"
   ]
  },
  {
   "cell_type": "markdown",
   "metadata": {},
   "source": [
    "### replace_one will use the search condition to find the document and replace it with new values, but preserving the _id"
   ]
  },
  {
   "cell_type": "code",
   "execution_count": null,
   "metadata": {},
   "outputs": [],
   "source": [
    "# fix model 8 in case it is wrong\n",
    "db.products.update_one({\"manufacturer\":\"KitchenAid\", \"model\":8}, {\"$set\": {\"price\":100}}\n",
    "                       , upsert = True)\n",
    "print(list(db.products.find({\"manufacturer\":\"KitchenAid\"})))\n",
    "print('----')\n",
    "\n",
    "\n",
    "db.products.replace_one({\"manufacturer\":\"KitchenAid\", \"model\":8}\n",
    "                        , {\"manufacturer\":\"KitchenAid\", \"model\":9})\n",
    "print(list(db.products.find({\"manufacturer\":\"KitchenAid\"})))\n",
    "\n",
    "\n",
    "# Note how the price disappeared; it's usually safer to use update methods than replace\n"
   ]
  },
  {
   "cell_type": "markdown",
   "metadata": {},
   "source": [
    "## The find_and functions will return the original object in addition to modifying it\n",
    "\n"
   ]
  },
  {
   "cell_type": "code",
   "execution_count": null,
   "metadata": {},
   "outputs": [],
   "source": [
    "p1 = db.products.find_one_and_delete({\"manufacturer\":\"KitchenAid\", \"model\":9})\n",
    "print(p1)\n",
    "print('----')\n",
    "print(list(db.products.find({\"manufacturer\":\"KitchenAid\"})))\n",
    "\n"
   ]
  },
  {
   "cell_type": "code",
   "execution_count": null,
   "metadata": {},
   "outputs": [],
   "source": [
    "p1 = db.products.find_one_and_update({\"manufacturer\":\"KitchenAid\", \"model\":5}, \n",
    "                                     {\"$set\":{\"price\":500}})\n",
    "print(p1)\n",
    "print('----')\n",
    "print(list(db.products.find({\"manufacturer\":\"KitchenAid\"})))\n",
    "\n"
   ]
  },
  {
   "cell_type": "code",
   "execution_count": null,
   "metadata": {},
   "outputs": [],
   "source": [
    "p1 = db.products.find_one_and_replace({\"manufacturer\":\"KitchenAid\", \"model\":5}\n",
    "                                      , {\"manufacturer\":\"KitchenAid\", \"model\":8})\n",
    "print(p1)\n",
    "print('----')\n",
    "print(list(db.products.find({\"manufacturer\":\"KitchenAid\"})))\n"
   ]
  },
  {
   "cell_type": "markdown",
   "metadata": {},
   "source": [
    "## Indexes can be used to speed up searches"
   ]
  },
  {
   "cell_type": "code",
   "execution_count": null,
   "metadata": {},
   "outputs": [],
   "source": [
    "list(db.products.list_indexes())"
   ]
  },
  {
   "cell_type": "code",
   "execution_count": null,
   "metadata": {},
   "outputs": [],
   "source": [
    "db.products.create_index(\"manufacturer\")\n",
    "print(db.products.find_one({\"manufacturer\":\"KitchenAid\"}))\n",
    "#db.products.drop_index(\"manufacturer_1\")"
   ]
  },
  {
   "cell_type": "code",
   "execution_count": null,
   "metadata": {},
   "outputs": [],
   "source": [
    "db.products.create_index([(\"manufacturer\", 1), (\"model\", 1)])\n",
    "print(db.products.find_one({\"manufacturer\":\"KitchenAid\"}))\n",
    "#db.products.drop_index(\"manufacturer_1_model_1\")"
   ]
  },
  {
   "cell_type": "code",
   "execution_count": null,
   "metadata": {},
   "outputs": [],
   "source": [
    "db.products.create_index([(\"manufacturer\", 1), (\"model\", 1)])\n",
    "print(db.products.find_one({\"manufacturer\":\"KitchenAid\"}))\n",
    "print(db.products.drop_index(\"manufacturer_1_model_1\"))"
   ]
  },
  {
   "cell_type": "code",
   "execution_count": null,
   "metadata": {},
   "outputs": [],
   "source": [
    "db.products.create_index([(\"manufacturer\", 1), (\"model\", -1)])\n",
    "print(db.products.find_one({\"manufacturer\":\"KitchenAid\"}))\n",
    "db.products.drop_index(\"manufacturer_1_model_-1\")"
   ]
  },
  {
   "cell_type": "code",
   "execution_count": null,
   "metadata": {},
   "outputs": [],
   "source": [
    "list(db.products.find({\"manufacturer\":\"KitchenAid\"}))"
   ]
  },
  {
   "cell_type": "markdown",
   "metadata": {},
   "source": [
    "## LAB: ## \n",
    "### Use the Northwind database\n",
    "- List the collections\n",
    "- List the categories collection\n",
    "- Just display the CategoryID and CategoryName\n",
    "- Find all the products for Category 1\n",
    "- Insert a new record into products providing a CategoryID, ProductID = 100 ProductName and UnitPrice\n",
    "- Display the record\n",
    "- Update the record you just inserted to increase the price by 1\n",
    "- Display the record\n",
    "- Remove the record\n",
    "\n",
    "<br>\n",
    "<details><summary>Click for <b>code</b></summary>\n",
    "<p>\n",
    "\n",
    "```python\n",
    "nw = client.Northwind\n",
    "nw.list_collection_names()\n",
    "list(nw.categories.find())\n",
    "list(list(nw.categories.find({},{\"CategoryID\":1, \"CategoryName\":1, \"_id\":0})))\n",
    "list(nw.products.find({\"CategoryID\":1}))\n",
    "nw.products.insert_one({\"CategoryID\": 1, \"ProductID\":100, \"ProductName\":\"NewProduct\", \"UnitPrice\": 19})\n",
    "nw.products.find_one({\"ProductID\":100})\n",
    "nw.products.update_one({\"ProductID\":100}, {\"$inc\": {\"UnitPrice\":1}})\n",
    "nw.products.find_one({\"ProductID\":100})\n",
    "nw.products.delete_one({\"ProductID\":100})\n",
    "```\n",
    "</p>\n",
    "</details>"
   ]
  },
  {
   "cell_type": "code",
   "execution_count": null,
   "metadata": {},
   "outputs": [],
   "source": []
  },
  {
   "cell_type": "markdown",
   "metadata": {},
   "source": [
    "## Sometimes it is desirable to put validators (like SQL constraints) onto a collection to guarantee it meets certain rules. To do this in mongosh it would look like this:\n",
    "```javascript\n",
    "db.createCollection(\"address\", {\n",
    "    validator:{\n",
    "        firstname: {$type:\"string\"}\n",
    "        }})\n",
    "\n",
    "```\n",
    "\n",
    "## In Python, we would instead use the validator parameter"
   ]
  },
  {
   "cell_type": "code",
   "execution_count": null,
   "metadata": {},
   "outputs": [],
   "source": [
    "nw.create_collection(\"test1\", validator ={\n",
    "                \"firstname\" : {\"$type\":\"string\"},\n",
    "                \"lastname\" : {\"$type\":\"string\"}\n",
    "        })"
   ]
  },
  {
   "cell_type": "code",
   "execution_count": null,
   "metadata": {},
   "outputs": [],
   "source": [
    "#nw.test1.insert_one({\"firstname\":\"joey\", \"lastname\":\"gagliardo\"})\n",
    "#nw.test1.insert_one({\"firstname\":\"joey\", \"Lastname\":\"gagliardo\"})"
   ]
  },
  {
   "cell_type": "markdown",
   "metadata": {},
   "source": [
    "## Aggregation pipelines are way to aggregate data, but also filter and sort it and more. You build a series of commands you want it to run and then submit that list or pipeline to the aggregate method."
   ]
  },
  {
   "cell_type": "code",
   "execution_count": null,
   "metadata": {},
   "outputs": [],
   "source": [
    "# The following is a template of what a pipeline would look like\n",
    "pipeline = [\n",
    "  { \"$match\" : { … },\n",
    "  { \"$group\" : { … },\n",
    "  { \"$sort\" : { … },\n",
    "  { \"$unwind\" : { … },\n",
    "  { \"$lookup\" : { … },\n",
    "  ...\n",
    "]\n",
    "db.collectionName.aggregate(pipeline, options)"
   ]
  },
  {
   "cell_type": "markdown",
   "metadata": {},
   "source": [
    "## The pipeline must be a list of dictionaries that have the operations you want to perform. Here is a simple filter using the match operator."
   ]
  },
  {
   "cell_type": "code",
   "execution_count": null,
   "metadata": {},
   "outputs": [],
   "source": [
    "pipeline = [{\"$match\": { \"ProductName\":\"Chang\"}}]\n",
    "list(db.products.aggregate(pipeline))"
   ]
  },
  {
   "cell_type": "code",
   "execution_count": null,
   "metadata": {},
   "outputs": [],
   "source": [
    "\n",
    "list(db.products.aggregate([\n",
    "  { \"$match\" : { \"CategoryID\" : 1 } }\n",
    "]))"
   ]
  },
  {
   "cell_type": "markdown",
   "metadata": {},
   "source": [
    "## This example combines a filter and a sort together"
   ]
  },
  {
   "cell_type": "code",
   "execution_count": null,
   "metadata": {},
   "outputs": [],
   "source": [
    "pipeline = [{\"$match\": { \"CategoryID\":1}}\n",
    "           ,{\"$sort\": {\"ProductID\": 1}}]\n",
    "list(db.products.aggregate(pipeline))"
   ]
  },
  {
   "cell_type": "markdown",
   "metadata": {},
   "source": [
    "## Adding a project operator allows you to include/exclude and rename fields. Note the use of the $ in front of the field name."
   ]
  },
  {
   "cell_type": "code",
   "execution_count": null,
   "metadata": {},
   "outputs": [],
   "source": [
    "pipeline = [{\"$match\": { \"CategoryID\":1}}\n",
    "           ,{\"$sort\": {\"ProductID\": 1}}\n",
    "           ,{\"$project\": {\"_id\":0, \"ProductID\":1, \"Name\": \"$ProductName\"}}]\n",
    "list(db.products.aggregate(pipeline))"
   ]
  },
  {
   "cell_type": "markdown",
   "metadata": {},
   "source": [
    "## Add a limit operator to return a fixed number of documents "
   ]
  },
  {
   "cell_type": "code",
   "execution_count": null,
   "metadata": {},
   "outputs": [],
   "source": [
    "pipeline = [{\"$match\": { \"CategoryID\":1}}\n",
    "           ,{\"$sort\": {\"UnitPrice\": -1}}\n",
    "           ,{\"$project\": {\"_id\":0, \"ProductID\":1, \"ProductName\":1, \"UnitPrice\":1}}\n",
    "           ,{\"$limit\":5}]\n",
    "list(db.products.aggregate(pipeline))"
   ]
  },
  {
   "cell_type": "markdown",
   "metadata": {},
   "source": [
    "## The group operator is really like a distinct clause in SQL to find all the distinct values for the grouping columns. You must call the column you want to group on _id, but you can rename it later with a project."
   ]
  },
  {
   "cell_type": "code",
   "execution_count": null,
   "metadata": {},
   "outputs": [],
   "source": [
    "pipeline = [{\"$group\": { \"_id\": \"$CategoryID\"}}]\n",
    "list(db.products.aggregate(pipeline)) \n"
   ]
  },
  {
   "cell_type": "markdown",
   "metadata": {},
   "source": [
    "## To add aggregates to the mix, create the alias you want the column to have and the operation to perform. In this example, summing up a one for each document gives a count."
   ]
  },
  {
   "cell_type": "code",
   "execution_count": null,
   "metadata": {},
   "outputs": [],
   "source": [
    "pipeline = [{\"$group\": { \"_id\": \"$CategoryID\", \"product_count\": {\"$sum\":1}}}]\n",
    "list(db.products.aggregate(pipeline)) \n"
   ]
  },
  {
   "cell_type": "markdown",
   "metadata": {},
   "source": [
    "## Could use \\$sum and \\$avg and other aggregate operators"
   ]
  },
  {
   "cell_type": "code",
   "execution_count": null,
   "metadata": {},
   "outputs": [],
   "source": [
    "pipeline = [{\"$group\": { \"_id\": \"$CategoryID\"\n",
    "                        , \"product_count\": {\"$sum\":1}\n",
    "                        , \"product_avg\": {\"$avg\":\"$UnitPrice\"}\n",
    "                       }\n",
    "            }]\n",
    "list(db.products.aggregate(pipeline)) \n"
   ]
  },
  {
   "cell_type": "markdown",
   "metadata": {},
   "source": [
    "## The \\$push operator can be used to create a list of nested children items to get a nested repeating effect similar to the Hive COLLECT_LIST function"
   ]
  },
  {
   "cell_type": "code",
   "execution_count": null,
   "metadata": {},
   "outputs": [],
   "source": [
    "pipeline = [{\"$group\": { \"_id\": \"$CategoryID\"\n",
    "                        , \"product_count\": {\"$sum\": 1}\n",
    "                        , \"product_avg\": {\"$avg\": \"$UnitPrice\"}\n",
    "                        , \"product_list\": {\"$push\": \"$ProductName\" }\n",
    "                       }\n",
    "            }]\n",
    "                        \n",
    "list(db.products.aggregate(pipeline)) \n"
   ]
  },
  {
   "cell_type": "markdown",
   "metadata": {},
   "source": [
    "## You can also collect a list of multiple fields together to create a list of structures"
   ]
  },
  {
   "cell_type": "code",
   "execution_count": null,
   "metadata": {},
   "outputs": [],
   "source": [
    "pipeline = [{\"$group\": { \"_id\": \"$CategoryID\"\n",
    "                        ,\"Products\" : { \"$push\": {\"ProductID\": \"$ProductID\"\n",
    "                                                  ,\"ProductName\": \"$ProductName\"\n",
    "                                                  , \"UnitPrice\": \"$UnitPrice\"}}\n",
    "                        }\n",
    "             }\n",
    "            ]\n",
    "                        \n",
    "list(db.products.aggregate(pipeline)) \n"
   ]
  },
  {
   "cell_type": "markdown",
   "metadata": {},
   "source": [
    "## Can use the \\$project to rename the _id column"
   ]
  },
  {
   "cell_type": "code",
   "execution_count": null,
   "metadata": {},
   "outputs": [],
   "source": [
    "pipeline = [{\"$group\": { \"_id\": \"$CategoryID\"\n",
    "                        ,\"Products\" : { \"$push\": {\"ProductID\": \"$ProductID\"\n",
    "                                                  ,\"ProductName\": \"$ProductName\"\n",
    "                                                  , \"UnitPrice\": \"$UnitPrice\"}}\n",
    "                        }\n",
    "             }\n",
    "            , {\"$project\": {\"CategoryID\": \"$_id\", \"Products\":1, \"_id\":0}}\n",
    "            ]\n",
    "                        \n",
    "list(db.products.aggregate(pipeline)) \n"
   ]
  },
  {
   "cell_type": "markdown",
   "metadata": {},
   "source": [
    "## Here, we combine many elements together"
   ]
  },
  {
   "cell_type": "code",
   "execution_count": null,
   "metadata": {},
   "outputs": [],
   "source": [
    "pipeline = [{\"$group\": { \"_id\": \"$CategoryID\"\n",
    "                        ,\"product_list\" : { \"$push\": {\"ProductID\": \"$ProductID\"\n",
    "                                                  ,\"ProductName\": \"$ProductName\"\n",
    "                                                  , \"UnitPrice\": \"$UnitPrice\"}}\n",
    "                        , \"product_count\": {\"$sum\": 1}\n",
    "                        , \"product_avg\": {\"$avg\": \"$UnitPrice\"}\n",
    "                        }\n",
    "             }\n",
    "            , {\"$project\": {\"CategoryID\": \"$_id\", \"product_count\": 1, \"product_avg\": 1, \"product_list\":1, \"_id\":0}}\n",
    "            , {\"$match\": {\"product_count\": {\"$gte\":10}}}\n",
    "            , {\"$sort\": {\"product_count\": -1, \"product_avg\":1}}\n",
    "            ]\n",
    "   \n",
    "x = db.products.aggregate(pipeline)\n",
    "list(x)\n"
   ]
  },
  {
   "cell_type": "markdown",
   "metadata": {},
   "source": [
    "## Let's save the results of the nested outcome to a collection"
   ]
  },
  {
   "cell_type": "code",
   "execution_count": null,
   "metadata": {
    "scrolled": true
   },
   "outputs": [],
   "source": [
    "pipeline = [{\"$group\": { \"_id\": \"$CategoryID\"\n",
    "                        ,\"product_list\" : { \"$push\": {\"ProductID\": \"$ProductID\"\n",
    "                                                  ,\"ProductName\": \"$ProductName\"\n",
    "                                                  , \"UnitPrice\": \"$UnitPrice\"}}\n",
    "                        , \"product_count\": {\"$sum\": 1}\n",
    "                        , \"product_avg\": {\"$avg\": \"$UnitPrice\"}\n",
    "                        }\n",
    "             }\n",
    "            , {\"$project\": {\"CategoryID\": \"$_id\", \"product_count\": 1, \"product_avg\": 1, \"product_list\":1, \"_id\":0}}\n",
    "            , {\"$match\": {\"product_count\": {\"$gte\":10}}}\n",
    "            , {\"$sort\": {\"product_count\": -1, \"product_avg\":1}}\n",
    "            ]\n",
    "\n",
    "db.products_nested.delete_many({})\n",
    "x = db.products.aggregate(pipeline)\n",
    "db.products_nested.insert_many(x)\n"
   ]
  },
  {
   "cell_type": "markdown",
   "metadata": {},
   "source": [
    "## Now, if you have some nested data and want to flatten or unnest it back to a traditional denormalized format, use the \\$unwind operator"
   ]
  },
  {
   "cell_type": "code",
   "execution_count": null,
   "metadata": {},
   "outputs": [],
   "source": [
    "pipeline = [{\"$unwind\": \"$product_list\"}]\n",
    "x = db.products_nested.aggregate(pipeline)\n",
    "list(x)\n"
   ]
  },
  {
   "cell_type": "markdown",
   "metadata": {},
   "source": [
    "## The results are a bit funny looking, so use \\$project to fix them up"
   ]
  },
  {
   "cell_type": "code",
   "execution_count": null,
   "metadata": {},
   "outputs": [],
   "source": [
    "pipeline = [{\"$unwind\": \"$product_list\"}\n",
    "           ,{\"$project\": {\"CategoryID\":1, \"product_avg\":1, \"product_count\":1\n",
    "                          , \"ProductID\":\"$product_list.ProductID\"\n",
    "                          , \"ProductName\":\"$product_list.ProductName\"\n",
    "                          , \"UnitPrice\":\"$product_list.UnitPrice\"\n",
    "                          , \"_id\":0}}]\n",
    "x = db.products_nested.aggregate(pipeline)\n",
    "list(x)\n"
   ]
  },
  {
   "cell_type": "markdown",
   "metadata": {},
   "source": [
    "## Generally, a MongoDB database should not rely on relational structure but instead each document should contain everything it needs, but if you need to, you can use a \\$lookup operator which is sort of like using a JOIN or correlated subquery in SQL"
   ]
  },
  {
   "cell_type": "code",
   "execution_count": null,
   "metadata": {},
   "outputs": [],
   "source": [
    "pipeline = [{\"$lookup\": {\"from\": \"categories\"\n",
    "                        , \"localField\": \"CategoryID\"\n",
    "                        , \"foreignField\": \"CategoryID\"\n",
    "                        , \"as\": \"Category\"}}\n",
    "            ]\n",
    "x = db.products_nested.aggregate(pipeline)\n",
    "list(x)\n"
   ]
  },
  {
   "cell_type": "markdown",
   "metadata": {},
   "source": [
    "## It inserts the whole of the looked up document into the output so use a \\$project to fix it up"
   ]
  },
  {
   "cell_type": "code",
   "execution_count": null,
   "metadata": {},
   "outputs": [],
   "source": [
    "pipeline = [{\"$lookup\": {\"from\": \"categories\"\n",
    "                        , \"localField\": \"CategoryID\"\n",
    "                        , \"foreignField\": \"CategoryID\"\n",
    "                        , \"as\": \"Category\"}}\n",
    "            ,{\"$project\": {\"CategoryID\":1, \"CategoryName\":\"$Category.CategoryName\", \"product_list\":1}}\n",
    "            ]\n",
    "x = db.products_nested.aggregate(pipeline)\n",
    "list(x)\n"
   ]
  },
  {
   "cell_type": "code",
   "execution_count": null,
   "metadata": {},
   "outputs": [],
   "source": [
    "db = client['Northwind']\n",
    "db.list_collection_names()\n"
   ]
  },
  {
   "cell_type": "markdown",
   "metadata": {},
   "source": [
    "## LAB: ## \n",
    "### Use the Northwind database\n",
    "- Group the customers collection by country\n",
    "- Show the total number of customers in each country and a list of those customers\n",
    "- Only show countries with at least two customers\n",
    "- Sort the list in descending order by count and ascending by country name\n",
    "\n",
    "<br>\n",
    "<details><summary>Click for <b>hint</b></summary>\n",
    "<p>\n",
    "Use \\$group \\$project \\$match \\$sort in an aggregate pipeline\n",
    "<br>\n",
    "Use \\$sum to get total customers per country\n",
    "<br>\n",
    "Use \\$push to create a list of CustomerID and CompanyName\n",
    "<br>\n",
    "</p>\n",
    "</details>\n",
    "<br>\n",
    "<details><summary>Click for <b>code</b></summary>\n",
    "<p>\n",
    "\n",
    "```python\n",
    "pipeline = [\n",
    "    {\"$group\": {\"_id\": \"$Country\"\n",
    "              , \"customer_count\": {\"$sum\": 1}\n",
    "              , \"Customers\": {\"$push\":  {\"CustomerID\": \"$CustomerID\", \"CompanyName\": \"$CompanyName\"}}\n",
    "                      }}\n",
    "    ,{\"$project\": {\"_id\":0, \"Country\":\"$_id\", \"customer_count\":1, \"Customers\":1}}\n",
    "    ,{\"$match\": {\"customer_count\": {\"$gt\":1}}}\n",
    "    ,{\"$sort\": {\"customer_count\": -1, \"Country\":1}}    \n",
    "           ]\n",
    "list(db.customers.aggregate(pipeline))\n",
    "```\n",
    "</p>\n",
    "</details>"
   ]
  },
  {
   "cell_type": "code",
   "execution_count": null,
   "metadata": {},
   "outputs": [],
   "source": []
  }
 ],
 "metadata": {
  "kernelspec": {
   "display_name": "Python 3",
   "language": "python",
   "name": "python3"
  },
  "language_info": {
   "codemirror_mode": {
    "name": "ipython",
    "version": 3
   },
   "file_extension": ".py",
   "mimetype": "text/x-python",
   "name": "python",
   "nbconvert_exporter": "python",
   "pygments_lexer": "ipython3",
   "version": "3.6.9"
  }
 },
 "nbformat": 4,
 "nbformat_minor": 2
}
